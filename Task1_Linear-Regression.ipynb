{
  "metadata": {
    "colab": {
      "name": "Linear Regression.ipynb",
      "version": "0.3.2",
      "provenance": [
        {
          "file_id": "1wzD9Aa7cc7kRwyXq8DeJ8H56mJInOMZN",
          "timestamp": 1544113281508
        }
      ],
      "collapsed_sections": []
    },
    "kernelspec": {
      "name": "python",
      "display_name": "Python (Pyodide)",
      "language": "python"
    },
    "language_info": {
      "codemirror_mode": {
        "name": "python",
        "version": 3
      },
      "file_extension": ".py",
      "mimetype": "text/x-python",
      "name": "python",
      "nbconvert_exporter": "python",
      "pygments_lexer": "ipython3",
      "version": "3.8"
    }
  },
  "nbformat_minor": 4,
  "nbformat": 4,
  "cells": [
    {
      "cell_type": "markdown",
      "source": "# Task 1 \n## **Linear Regression with Python Scikit Learn**\nIn this regression task we will predict the percentage of marks that a student is expected to score based upon the number of hours they studied. This is a simple linear regression task as it involves just two variables.",
      "metadata": {
        "id": "GzfdMfk10NE6",
        "colab_type": "text"
      }
    },
    {
      "cell_type": "markdown",
      "source": "#### Done by: Gehad H.Mohamed.\n",
      "metadata": {
        "id": "X6A8Hm86UUZ-",
        "colab_type": "text"
      }
    },
    {
      "cell_type": "code",
      "source": "# Importing all libraries required in this notebook\nimport pandas as pd\nimport numpy as np  \nfrom sklearn.linear_model import LinearRegression \nfrom sklearn.model_selection import train_test_split\nfrom sklearn.metrics import r2_score\nimport matplotlib.pyplot as plt  \n%matplotlib inline",
      "metadata": {
        "id": "V9QN2ZxC38pB",
        "colab_type": "code",
        "colab": {},
        "trusted": true
      },
      "execution_count": 1,
      "outputs": []
    },
    {
      "cell_type": "code",
      "source": "# Reading data from CSV File\nt_data = pd.read_csv(\"student_scores - student_scores.csv\")\nprint(\"Data imported successfully\")\n\nt_data.head()",
      "metadata": {
        "id": "LtU4YMEhqm9m",
        "colab_type": "code",
        "outputId": "5b4b36af-1545-497e-a6dc-7658bab71dbc",
        "executionInfo": {
          "status": "ok",
          "timestamp": 1544113345787,
          "user_tz": -480,
          "elapsed": 2534,
          "user": {
            "displayName": "A M Aditya",
            "photoUrl": "https://lh3.googleusercontent.com/-WI8p7JNWLic/AAAAAAAAAAI/AAAAAAAAAfs/vS8ElgH0p0c/s64/photo.jpg",
            "userId": "15341571102300750919"
          }
        },
        "colab": {
          "base_uri": "https://localhost:8080/",
          "height": 376
        },
        "trusted": true
      },
      "execution_count": 2,
      "outputs": [
        {
          "name": "stdout",
          "text": "Data imported successfully\n",
          "output_type": "stream"
        },
        {
          "execution_count": 2,
          "output_type": "execute_result",
          "data": {
            "text/plain": "   Hours  Scores\n0    2.5      21\n1    5.1      47\n2    3.2      27\n3    8.5      75\n4    3.5      30",
            "text/html": "<div>\n<style scoped>\n    .dataframe tbody tr th:only-of-type {\n        vertical-align: middle;\n    }\n\n    .dataframe tbody tr th {\n        vertical-align: top;\n    }\n\n    .dataframe thead th {\n        text-align: right;\n    }\n</style>\n<table border=\"1\" class=\"dataframe\">\n  <thead>\n    <tr style=\"text-align: right;\">\n      <th></th>\n      <th>Hours</th>\n      <th>Scores</th>\n    </tr>\n  </thead>\n  <tbody>\n    <tr>\n      <th>0</th>\n      <td>2.5</td>\n      <td>21</td>\n    </tr>\n    <tr>\n      <th>1</th>\n      <td>5.1</td>\n      <td>47</td>\n    </tr>\n    <tr>\n      <th>2</th>\n      <td>3.2</td>\n      <td>27</td>\n    </tr>\n    <tr>\n      <th>3</th>\n      <td>8.5</td>\n      <td>75</td>\n    </tr>\n    <tr>\n      <th>4</th>\n      <td>3.5</td>\n      <td>30</td>\n    </tr>\n  </tbody>\n</table>\n</div>"
          },
          "metadata": {}
        }
      ]
    },
    {
      "cell_type": "markdown",
      "source": "###### Making a copy from the orginal Dataframe ",
      "metadata": {}
    },
    {
      "cell_type": "code",
      "source": "s_data = t_data.copy()\ns_data.to_csv('student_scores.csv')\nt_data.head(10)",
      "metadata": {
        "trusted": true
      },
      "execution_count": 3,
      "outputs": [
        {
          "execution_count": 3,
          "output_type": "execute_result",
          "data": {
            "text/plain": "   Hours  Scores\n0    2.5      21\n1    5.1      47\n2    3.2      27\n3    8.5      75\n4    3.5      30\n5    1.5      20\n6    9.2      88\n7    5.5      60\n8    8.3      81\n9    2.7      25",
            "text/html": "<div>\n<style scoped>\n    .dataframe tbody tr th:only-of-type {\n        vertical-align: middle;\n    }\n\n    .dataframe tbody tr th {\n        vertical-align: top;\n    }\n\n    .dataframe thead th {\n        text-align: right;\n    }\n</style>\n<table border=\"1\" class=\"dataframe\">\n  <thead>\n    <tr style=\"text-align: right;\">\n      <th></th>\n      <th>Hours</th>\n      <th>Scores</th>\n    </tr>\n  </thead>\n  <tbody>\n    <tr>\n      <th>0</th>\n      <td>2.5</td>\n      <td>21</td>\n    </tr>\n    <tr>\n      <th>1</th>\n      <td>5.1</td>\n      <td>47</td>\n    </tr>\n    <tr>\n      <th>2</th>\n      <td>3.2</td>\n      <td>27</td>\n    </tr>\n    <tr>\n      <th>3</th>\n      <td>8.5</td>\n      <td>75</td>\n    </tr>\n    <tr>\n      <th>4</th>\n      <td>3.5</td>\n      <td>30</td>\n    </tr>\n    <tr>\n      <th>5</th>\n      <td>1.5</td>\n      <td>20</td>\n    </tr>\n    <tr>\n      <th>6</th>\n      <td>9.2</td>\n      <td>88</td>\n    </tr>\n    <tr>\n      <th>7</th>\n      <td>5.5</td>\n      <td>60</td>\n    </tr>\n    <tr>\n      <th>8</th>\n      <td>8.3</td>\n      <td>81</td>\n    </tr>\n    <tr>\n      <th>9</th>\n      <td>2.7</td>\n      <td>25</td>\n    </tr>\n  </tbody>\n</table>\n</div>"
          },
          "metadata": {}
        }
      ]
    },
    {
      "cell_type": "markdown",
      "source": "Let's plot our data points on 2-D graph to eyeball our dataset and see if we can manually find any relationship between the data. We can create the plot with the following script:",
      "metadata": {
        "id": "RHsPneuM4NgB",
        "colab_type": "text"
      }
    },
    {
      "cell_type": "code",
      "source": "# Plotting the distribution of scores\ns_data.plot(x='Hours', y='Scores', style='o')  \nplt.title('Hours vs Percentage')  \nplt.xlabel('Hours Studied')  \nplt.ylabel('Percentage Score')  \nplt.show()",
      "metadata": {
        "id": "qxYBZkhAqpn9",
        "colab_type": "code",
        "outputId": "37264af1-786d-4e0c-a668-383264d1ddd1",
        "executionInfo": {
          "status": "ok",
          "timestamp": 1544113350499,
          "user_tz": -480,
          "elapsed": 718,
          "user": {
            "displayName": "A M Aditya",
            "photoUrl": "https://lh3.googleusercontent.com/-WI8p7JNWLic/AAAAAAAAAAI/AAAAAAAAAfs/vS8ElgH0p0c/s64/photo.jpg",
            "userId": "15341571102300750919"
          }
        },
        "colab": {
          "base_uri": "https://localhost:8080/",
          "height": 294
        },
        "trusted": true
      },
      "execution_count": 4,
      "outputs": [
        {
          "output_type": "display_data",
          "data": {
            "text/plain": "<pyolite.display.Image at 0x579ca48>",
            "image/png": "[encoded data removed]"
          },
          "metadata": {}
        },
        {
          "output_type": "display_data",
          "data": {
            "text/plain": "<Figure size 432x288 with 0 Axes>"
          },
          "metadata": {}
        }
      ]
    },
    {
      "cell_type": "markdown",
      "source": "**From the graph above, we can clearly see that there is a positive linear relation between the number of hours studied and percentage of score.**",
      "metadata": {
        "id": "fiQaULio4Rzr",
        "colab_type": "text"
      }
    },
    {
      "cell_type": "markdown",
      "source": "### **Preparing the data**\n\nThe next step is to divide the data into \"attributes\" (inputs) and \"labels\" (outputs).",
      "metadata": {
        "id": "WWtEr64M4jdz",
        "colab_type": "text"
      }
    },
    {
      "cell_type": "code",
      "source": "X = s_data.iloc[:, :-1].values  \ny = s_data.iloc[:, 1].values  ",
      "metadata": {
        "id": "LiJ5210e4tNX",
        "colab_type": "code",
        "colab": {},
        "trusted": true
      },
      "execution_count": 5,
      "outputs": []
    },
    {
      "cell_type": "markdown",
      "source": "Now that we have our attributes and labels, the next step is to split this data into training and test sets. We'll do this by using Scikit-Learn's built-in train_test_split() method:",
      "metadata": {
        "id": "Riz-ZiZ34fO4",
        "colab_type": "text"
      }
    },
    {
      "cell_type": "code",
      "source": "from sklearn.model_selection import train_test_split  \nX_train, X_test, y_train, y_test = train_test_split(X, y, \n                            test_size=0.2, random_state=0) ",
      "metadata": {
        "id": "udFYso1M4BNw",
        "colab_type": "code",
        "colab": {},
        "trusted": true
      },
      "execution_count": 6,
      "outputs": []
    },
    {
      "cell_type": "markdown",
      "source": "###### Test & Train data split visualization ",
      "metadata": {}
    },
    {
      "cell_type": "code",
      "source": "plt.scatter(X_train, y_train, label = 'Training Data', color = 'b', alpha = .7)\nplt.scatter(X_test, y_test, label = 'Testing Data', color = 'y', alpha = .7)\nplt.legend()\nplt.title(\"Test & Train data split visualization\")\nplt.show()",
      "metadata": {
        "trusted": true
      },
      "execution_count": 7,
      "outputs": [
        {
          "output_type": "display_data",
          "data": {
            "text/plain": "<pyolite.display.Image at 0x53362f8>",
            "image/png": "[encoded data removed]"
          },
          "metadata": {}
        },
        {
          "output_type": "display_data",
          "data": {
            "text/plain": "<Figure size 432x288 with 0 Axes>"
          },
          "metadata": {}
        }
      ]
    },
    {
      "cell_type": "markdown",
      "source": "### **Training the Algorithm**\nWe have split our data into training and testing sets, and now is finally the time to train our algorithm. ",
      "metadata": {
        "id": "a6WXptFU5CkC",
        "colab_type": "text"
      }
    },
    {
      "cell_type": "code",
      "source": "regressor = LinearRegression()  \nregressor.fit(X_train, y_train) \n\nprint(\"Training complete.\")",
      "metadata": {
        "id": "qddCuaS84fpK",
        "colab_type": "code",
        "outputId": "befbd977-772c-4bd1-bb48-ee5dd6bae73c",
        "executionInfo": {
          "status": "ok",
          "timestamp": 1544113358086,
          "user_tz": -480,
          "elapsed": 701,
          "user": {
            "displayName": "A M Aditya",
            "photoUrl": "https://lh3.googleusercontent.com/-WI8p7JNWLic/AAAAAAAAAAI/AAAAAAAAAfs/vS8ElgH0p0c/s64/photo.jpg",
            "userId": "15341571102300750919"
          }
        },
        "colab": {
          "base_uri": "https://localhost:8080/",
          "height": 34
        },
        "trusted": true
      },
      "execution_count": 8,
      "outputs": [
        {
          "name": "stdout",
          "text": "Training complete.\n",
          "output_type": "stream"
        }
      ]
    },
    {
      "cell_type": "code",
      "source": "# Plotting the regression line\nline = regressor.coef_*X+regressor.intercept_\n\n# Plotting for the test data\nplt.scatter(X, y)\nplt.plot(X, line);\nplt.show()",
      "metadata": {
        "id": "J61NX2_2-px7",
        "colab_type": "code",
        "outputId": "d20ec1fd-3e2d-4eae-84a2-a0df57d31009",
        "executionInfo": {
          "status": "ok",
          "timestamp": 1544113360867,
          "user_tz": -480,
          "elapsed": 985,
          "user": {
            "displayName": "A M Aditya",
            "photoUrl": "https://lh3.googleusercontent.com/-WI8p7JNWLic/AAAAAAAAAAI/AAAAAAAAAfs/vS8ElgH0p0c/s64/photo.jpg",
            "userId": "15341571102300750919"
          }
        },
        "colab": {
          "base_uri": "https://localhost:8080/",
          "height": 265
        },
        "trusted": true
      },
      "execution_count": 9,
      "outputs": [
        {
          "output_type": "display_data",
          "data": {
            "text/plain": "<pyolite.display.Image at 0x51f5fe0>",
            "image/png": "[encoded data removed]"
          },
          "metadata": {}
        },
        {
          "output_type": "display_data",
          "data": {
            "text/plain": "<Figure size 432x288 with 0 Axes>"
          },
          "metadata": {}
        }
      ]
    },
    {
      "cell_type": "markdown",
      "source": "### **Making Predictions**\nNow that we have trained our algorithm, it's time to make some predictions.",
      "metadata": {
        "id": "JCQn-g4m5OK2",
        "colab_type": "text"
      }
    },
    {
      "cell_type": "code",
      "source": "print(X_test) # Testing data - In Hours\ny_pred = regressor.predict(X_test) # Predicting the scores",
      "metadata": {
        "id": "Tt-Fmzu55EGM",
        "colab_type": "code",
        "outputId": "46f1acf8-91ac-4984-cfbe-e614aa9ea849",
        "executionInfo": {
          "status": "ok",
          "timestamp": 1544113363729,
          "user_tz": -480,
          "elapsed": 698,
          "user": {
            "displayName": "A M Aditya",
            "photoUrl": "https://lh3.googleusercontent.com/-WI8p7JNWLic/AAAAAAAAAAI/AAAAAAAAAfs/vS8ElgH0p0c/s64/photo.jpg",
            "userId": "15341571102300750919"
          }
        },
        "colab": {
          "base_uri": "https://localhost:8080/",
          "height": 102
        },
        "trusted": true
      },
      "execution_count": 10,
      "outputs": [
        {
          "name": "stdout",
          "text": "[[1.5]\n [3.2]\n [7.4]\n [2.5]\n [5.9]]\n",
          "output_type": "stream"
        }
      ]
    },
    {
      "cell_type": "code",
      "source": "#Compare prediction line with actual test line\nplt.plot(X_test, y_pred, label = 'Linear Regression', color = 'g')\nplt.scatter(X_test, y_test, label = 'Actual Test Data', color = 'y', alpha = .7)\nplt.legend()\nplt.show()",
      "metadata": {
        "trusted": true
      },
      "execution_count": 11,
      "outputs": [
        {
          "output_type": "display_data",
          "data": {
            "text/plain": "<pyolite.display.Image at 0x5685488>",
            "image/png": "[encoded data removed]"
          },
          "metadata": {}
        },
        {
          "output_type": "display_data",
          "data": {
            "text/plain": "<Figure size 432x288 with 0 Axes>"
          },
          "metadata": {}
        }
      ]
    },
    {
      "cell_type": "code",
      "source": "# Comparing Actual vs Predicted\ndf = pd.DataFrame({'Actual': y_test, 'Predicted': y_pred})  \ndf ",
      "metadata": {
        "id": "6bmZUMZh5QLb",
        "colab_type": "code",
        "outputId": "8ea11a9e-c1b7-4fab-ab62-4dcbd2c8607b",
        "executionInfo": {
          "status": "ok",
          "timestamp": 1544113366918,
          "user_tz": -480,
          "elapsed": 753,
          "user": {
            "displayName": "A M Aditya",
            "photoUrl": "https://lh3.googleusercontent.com/-WI8p7JNWLic/AAAAAAAAAAI/AAAAAAAAAfs/vS8ElgH0p0c/s64/photo.jpg",
            "userId": "15341571102300750919"
          }
        },
        "colab": {
          "base_uri": "https://localhost:8080/",
          "height": 204
        },
        "trusted": true
      },
      "execution_count": 12,
      "outputs": [
        {
          "execution_count": 12,
          "output_type": "execute_result",
          "data": {
            "text/plain": "   Actual  Predicted\n0      20  16.884145\n1      27  33.732261\n2      69  75.357018\n3      30  26.794801\n4      62  60.491033",
            "text/html": "<div>\n<style scoped>\n    .dataframe tbody tr th:only-of-type {\n        vertical-align: middle;\n    }\n\n    .dataframe tbody tr th {\n        vertical-align: top;\n    }\n\n    .dataframe thead th {\n        text-align: right;\n    }\n</style>\n<table border=\"1\" class=\"dataframe\">\n  <thead>\n    <tr style=\"text-align: right;\">\n      <th></th>\n      <th>Actual</th>\n      <th>Predicted</th>\n    </tr>\n  </thead>\n  <tbody>\n    <tr>\n      <th>0</th>\n      <td>20</td>\n      <td>16.884145</td>\n    </tr>\n    <tr>\n      <th>1</th>\n      <td>27</td>\n      <td>33.732261</td>\n    </tr>\n    <tr>\n      <th>2</th>\n      <td>69</td>\n      <td>75.357018</td>\n    </tr>\n    <tr>\n      <th>3</th>\n      <td>30</td>\n      <td>26.794801</td>\n    </tr>\n    <tr>\n      <th>4</th>\n      <td>62</td>\n      <td>60.491033</td>\n    </tr>\n  </tbody>\n</table>\n</div>"
          },
          "metadata": {}
        }
      ]
    },
    {
      "cell_type": "code",
      "source": "# You can also test with your own data\nhours = 9.25\nown_pred = regressor.predict([[hours]])\nprint(\"No of Hours = {}\".format(hours))\nprint(\"Predicted Score = {}\".format(own_pred[0]))",
      "metadata": {
        "id": "KAFO8zbx-AH1",
        "colab_type": "code",
        "outputId": "fcb3830f-3cda-4dcb-f122-84b71f101fae",
        "executionInfo": {
          "status": "ok",
          "timestamp": 1544113370494,
          "user_tz": -480,
          "elapsed": 862,
          "user": {
            "displayName": "A M Aditya",
            "photoUrl": "https://lh3.googleusercontent.com/-WI8p7JNWLic/AAAAAAAAAAI/AAAAAAAAAfs/vS8ElgH0p0c/s64/photo.jpg",
            "userId": "15341571102300750919"
          }
        },
        "colab": {
          "base_uri": "https://localhost:8080/",
          "height": 51
        },
        "trusted": true
      },
      "execution_count": 13,
      "outputs": [
        {
          "name": "stdout",
          "text": "No of Hours = 9.25\nPredicted Score = 93.69173248737539\n",
          "output_type": "stream"
        }
      ]
    },
    {
      "cell_type": "markdown",
      "source": "### **Evaluating the model**\n\nThe final step is to evaluate the performance of algorithm. This step is particularly important to compare how well different algorithms perform on a particular dataset. For simplicity here, we have chosen the mean square error. There are many such metrics.",
      "metadata": {
        "id": "0AAsPVA_6KmK",
        "colab_type": "text"
      }
    },
    {
      "cell_type": "code",
      "source": "from sklearn import metrics  \nprint('Mean Absolute Error:', \n      metrics.mean_absolute_error(y_test, y_pred)) ",
      "metadata": {
        "id": "r5UOrRH-5VCQ",
        "colab_type": "code",
        "outputId": "7b9ddcf1-2848-408f-d81f-7a60652c381e",
        "executionInfo": {
          "status": "ok",
          "timestamp": 1544113374919,
          "user_tz": -480,
          "elapsed": 834,
          "user": {
            "displayName": "A M Aditya",
            "photoUrl": "https://lh3.googleusercontent.com/-WI8p7JNWLic/AAAAAAAAAAI/AAAAAAAAAfs/vS8ElgH0p0c/s64/photo.jpg",
            "userId": "15341571102300750919"
          }
        },
        "colab": {
          "base_uri": "https://localhost:8080/",
          "height": 34
        },
        "trusted": true
      },
      "execution_count": 14,
      "outputs": [
        {
          "name": "stdout",
          "text": "Mean Absolute Error: 4.183859899002982\n",
          "output_type": "stream"
        }
      ]
    }
  ]
}